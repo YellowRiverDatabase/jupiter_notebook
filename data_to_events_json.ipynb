{
 "cells": [
  {
   "cell_type": "code",
   "execution_count": null,
   "id": "15af7db3",
   "metadata": {},
   "outputs": [],
   "source": [
    "import pandas as pd\n",
    "import json"
   ]
  },
  {
   "cell_type": "code",
   "execution_count": null,
   "id": "b60351d8",
   "metadata": {},
   "outputs": [
    {
     "data": {
      "text/html": [
       "<div>\n",
       "<style scoped>\n",
       "    .dataframe tbody tr th:only-of-type {\n",
       "        vertical-align: middle;\n",
       "    }\n",
       "\n",
       "    .dataframe tbody tr th {\n",
       "        vertical-align: top;\n",
       "    }\n",
       "\n",
       "    .dataframe thead th {\n",
       "        text-align: right;\n",
       "    }\n",
       "</style>\n",
       "<table border=\"1\" class=\"dataframe\">\n",
       "  <thead>\n",
       "    <tr style=\"text-align: right;\">\n",
       "      <th></th>\n",
       "      <th>yrdb_id</th>\n",
       "      <th>tr_title</th>\n",
       "      <th>ch_pinyin</th>\n",
       "    </tr>\n",
       "  </thead>\n",
       "  <tbody>\n",
       "    <tr>\n",
       "      <th>0</th>\n",
       "      <td>yrdb1</td>\n",
       "      <td>交口鎮</td>\n",
       "      <td>jiaokou zhen</td>\n",
       "    </tr>\n",
       "    <tr>\n",
       "      <th>1</th>\n",
       "      <td>yrdb2</td>\n",
       "      <td>交河</td>\n",
       "      <td>jiao he</td>\n",
       "    </tr>\n",
       "    <tr>\n",
       "      <th>2</th>\n",
       "      <td>yrdb3</td>\n",
       "      <td>交漳村</td>\n",
       "      <td>jiaozhang cun</td>\n",
       "    </tr>\n",
       "    <tr>\n",
       "      <th>3</th>\n",
       "      <td>yrdb6</td>\n",
       "      <td>交道鎮</td>\n",
       "      <td>jiaodao zhen</td>\n",
       "    </tr>\n",
       "    <tr>\n",
       "      <th>4</th>\n",
       "      <td>yrdb7</td>\n",
       "      <td>亦雜石營</td>\n",
       "      <td>yizashi ying</td>\n",
       "    </tr>\n",
       "  </tbody>\n",
       "</table>\n",
       "</div>"
      ],
      "text/plain": [
       "  yrdb_id tr_title      ch_pinyin\n",
       "0   yrdb1      交口鎮   jiaokou zhen\n",
       "1   yrdb2       交河        jiao he\n",
       "2   yrdb3      交漳村  jiaozhang cun\n",
       "3   yrdb6      交道鎮   jiaodao zhen\n",
       "4   yrdb7     亦雜石營   yizashi ying"
      ]
     },
     "execution_count": 8,
     "metadata": {},
     "output_type": "execute_result"
    }
   ],
   "source": [
    "events = pd.read_csv(\n",
    "    \"https://raw.githubusercontent.com/YellowRiverDatabase/geodata/refs/heads/main/relational-datadata/yrdb_events.csv\"\n",
    ")\n",
    "places = pd.read_csv(\n",
    "    \"https://raw.githubusercontent.com/YellowRiverDatabase/geodata/refs/heads/main/relational-datadata/yrdb_places.csv\"\n",
    ")\n",
    "places_to_types = pd.read_csv(\n",
    "    \"https://raw.githubusercontent.com/YellowRiverDatabase/geodata/refs/heads/main/relational-datadata/yrdb_places_to_types.csv\"\n",
    ")\n",
    "feature_types = pd.read_csv(\n",
    "    \"https://raw.githubusercontent.com/YellowRiverDatabase/geodata/refs/heads/main/relational-datadata/yrdb_feature_types.csv\"\n",
    ")\n",
    "event_types = pd.read_csv(\n",
    "    \"https://raw.githubusercontent.com/YellowRiverDatabase/geodata/refs/heads/main/relational-datadata/yrdb_event_types.csv\"\n",
    ")\n",
    "places.head()"
   ]
  },
  {
   "cell_type": "code",
   "execution_count": 10,
   "id": "0f10f114",
   "metadata": {},
   "outputs": [
    {
     "data": {
      "text/plain": [
       "(3449, 3)"
      ]
     },
     "execution_count": 10,
     "metadata": {},
     "output_type": "execute_result"
    }
   ],
   "source": [
    "places.shape"
   ]
  },
  {
   "cell_type": "code",
   "execution_count": 17,
   "id": "196a10e5",
   "metadata": {},
   "outputs": [
    {
     "data": {
      "text/plain": [
       "(3449, 5)"
      ]
     },
     "execution_count": 17,
     "metadata": {},
     "output_type": "execute_result"
    }
   ],
   "source": [
    "locs = pd.read_csv(\n",
    "    \"https://raw.githubusercontent.com/YellowRiverDatabase/geodata/refs/heads/main/relational-datadata/yrdb_locations_final.csv\"\n",
    ")\n",
    "locs = locs.drop_duplicates(subset=[\"Place_id\"], keep=\"first\")\n",
    "locs.shape"
   ]
  },
  {
   "cell_type": "code",
   "execution_count": 18,
   "id": "ced3f045",
   "metadata": {},
   "outputs": [
    {
     "data": {
      "text/html": [
       "<div>\n",
       "<style scoped>\n",
       "    .dataframe tbody tr th:only-of-type {\n",
       "        vertical-align: middle;\n",
       "    }\n",
       "\n",
       "    .dataframe tbody tr th {\n",
       "        vertical-align: top;\n",
       "    }\n",
       "\n",
       "    .dataframe thead th {\n",
       "        text-align: right;\n",
       "    }\n",
       "</style>\n",
       "<table border=\"1\" class=\"dataframe\">\n",
       "  <thead>\n",
       "    <tr style=\"text-align: right;\">\n",
       "      <th></th>\n",
       "      <th>yrdb_id</th>\n",
       "      <th>tr_title</th>\n",
       "      <th>ch_pinyin</th>\n",
       "      <th>ft_id</th>\n",
       "      <th>Location_id</th>\n",
       "      <th>Attestation</th>\n",
       "      <th>Latitude</th>\n",
       "      <th>Longitude</th>\n",
       "    </tr>\n",
       "  </thead>\n",
       "  <tbody>\n",
       "    <tr>\n",
       "      <th>0</th>\n",
       "      <td>yrdb1</td>\n",
       "      <td>交口鎮</td>\n",
       "      <td>jiaokou zhen</td>\n",
       "      <td>town</td>\n",
       "      <td>loc_0001</td>\n",
       "      <td>us_80111</td>\n",
       "      <td>110.215097</td>\n",
       "      <td>36.672192</td>\n",
       "    </tr>\n",
       "    <tr>\n",
       "      <th>1</th>\n",
       "      <td>yrdb2</td>\n",
       "      <td>交河</td>\n",
       "      <td>jiao he</td>\n",
       "      <td>river</td>\n",
       "      <td>loc_0003</td>\n",
       "      <td>ds_1019</td>\n",
       "      <td>116.284383</td>\n",
       "      <td>38.018758</td>\n",
       "    </tr>\n",
       "    <tr>\n",
       "      <th>2</th>\n",
       "      <td>yrdb3</td>\n",
       "      <td>交漳村</td>\n",
       "      <td>jiaozhang cun</td>\n",
       "      <td>village</td>\n",
       "      <td>loc_0004</td>\n",
       "      <td>us_70156</td>\n",
       "      <td>113.551184</td>\n",
       "      <td>36.924576</td>\n",
       "    </tr>\n",
       "    <tr>\n",
       "      <th>3</th>\n",
       "      <td>yrdb6</td>\n",
       "      <td>交道鎮</td>\n",
       "      <td>jiaodao zhen</td>\n",
       "      <td>town</td>\n",
       "      <td>loc_0006</td>\n",
       "      <td>us_80136</td>\n",
       "      <td>109.449483</td>\n",
       "      <td>35.951411</td>\n",
       "    </tr>\n",
       "    <tr>\n",
       "      <th>4</th>\n",
       "      <td>yrdb7</td>\n",
       "      <td>亦雜石營</td>\n",
       "      <td>yizashi ying</td>\n",
       "      <td>encampment</td>\n",
       "      <td>loc_0009</td>\n",
       "      <td>us_80319</td>\n",
       "      <td>101.309960</td>\n",
       "      <td>36.215818</td>\n",
       "    </tr>\n",
       "  </tbody>\n",
       "</table>\n",
       "</div>"
      ],
      "text/plain": [
       "  yrdb_id tr_title      ch_pinyin       ft_id Location_id Attestation  \\\n",
       "0   yrdb1      交口鎮   jiaokou zhen        town    loc_0001    us_80111   \n",
       "1   yrdb2       交河        jiao he       river    loc_0003     ds_1019   \n",
       "2   yrdb3      交漳村  jiaozhang cun     village    loc_0004    us_70156   \n",
       "3   yrdb6      交道鎮   jiaodao zhen        town    loc_0006    us_80136   \n",
       "4   yrdb7     亦雜石營   yizashi ying  encampment    loc_0009    us_80319   \n",
       "\n",
       "     Latitude  Longitude  \n",
       "0  110.215097  36.672192  \n",
       "1  116.284383  38.018758  \n",
       "2  113.551184  36.924576  \n",
       "3  109.449483  35.951411  \n",
       "4  101.309960  36.215818  "
      ]
     },
     "execution_count": 18,
     "metadata": {},
     "output_type": "execute_result"
    }
   ],
   "source": [
    "pt_df = places.join(places_to_types.set_index(\"yrdb_id\"), on=\"yrdb_id\", how=\"left\")\n",
    "pt_df = pt_df.join(locs.set_index(\"Place_id\"), on=\"yrdb_id\", how=\"left\")\n",
    "pt_df.head()"
   ]
  },
  {
   "cell_type": "code",
   "execution_count": 13,
   "id": "027cbba1",
   "metadata": {},
   "outputs": [
    {
     "name": "stdout",
     "output_type": "stream",
     "text": [
      "(3449, 4)\n",
      "3449\n"
     ]
    }
   ],
   "source": [
    "print(pt_df.shape)\n",
    "print(pt_df[\"yrdb_id\"].nunique())"
   ]
  },
  {
   "cell_type": "code",
   "execution_count": 24,
   "id": "c717e839",
   "metadata": {},
   "outputs": [
    {
     "data": {
      "text/html": [
       "<div>\n",
       "<style scoped>\n",
       "    .dataframe tbody tr th:only-of-type {\n",
       "        vertical-align: middle;\n",
       "    }\n",
       "\n",
       "    .dataframe tbody tr th {\n",
       "        vertical-align: top;\n",
       "    }\n",
       "\n",
       "    .dataframe thead th {\n",
       "        text-align: right;\n",
       "    }\n",
       "</style>\n",
       "<table border=\"1\" class=\"dataframe\">\n",
       "  <thead>\n",
       "    <tr style=\"text-align: right;\">\n",
       "      <th></th>\n",
       "      <th>Unnamed: 0</th>\n",
       "      <th>evtps_id</th>\n",
       "      <th>ev_id</th>\n",
       "      <th>source_id</th>\n",
       "      <th>source_text</th>\n",
       "      <th>notes</th>\n",
       "    </tr>\n",
       "  </thead>\n",
       "  <tbody>\n",
       "    <tr>\n",
       "      <th>0</th>\n",
       "      <td>0</td>\n",
       "      <td>NaN</td>\n",
       "      <td>ev_1</td>\n",
       "      <td>NaN</td>\n",
       "      <td>燧人氏時天下多水。</td>\n",
       "      <td>NaN</td>\n",
       "    </tr>\n",
       "    <tr>\n",
       "      <th>1</th>\n",
       "      <td>0</td>\n",
       "      <td>NaN</td>\n",
       "      <td>ev_2</td>\n",
       "      <td>NaN</td>\n",
       "      <td>湯湯洪水方割，蕩蕩懷山襄陵，浩浩滔天……</td>\n",
       "      <td>NaN</td>\n",
       "    </tr>\n",
       "    <tr>\n",
       "      <th>2</th>\n",
       "      <td>0</td>\n",
       "      <td>NaN</td>\n",
       "      <td>ev_3</td>\n",
       "      <td>NaN</td>\n",
       "      <td>當堯之時，天下猶未平。洪水橫流，泛濫於天下，草木暢茂；禽獸繁殖；五穀不登，禽獸逼人。獸蹄鳥跡...</td>\n",
       "      <td>NaN</td>\n",
       "    </tr>\n",
       "    <tr>\n",
       "      <th>3</th>\n",
       "      <td>0</td>\n",
       "      <td>NaN</td>\n",
       "      <td>ev_4</td>\n",
       "      <td>NaN</td>\n",
       "      <td>昔禹之湮洪水、決江河而通四夷九州也，名山三百，支川三千，小者無數。禹親自操橐耜，而九雜天下之川。</td>\n",
       "      <td>NaN</td>\n",
       "    </tr>\n",
       "    <tr>\n",
       "      <th>4</th>\n",
       "      <td>0</td>\n",
       "      <td>NaN</td>\n",
       "      <td>ev_5</td>\n",
       "      <td>NaN</td>\n",
       "      <td>洪水滔天……</td>\n",
       "      <td>NaN</td>\n",
       "    </tr>\n",
       "  </tbody>\n",
       "</table>\n",
       "</div>"
      ],
      "text/plain": [
       "   Unnamed: 0  evtps_id ev_id  source_id  \\\n",
       "0           0       NaN  ev_1        NaN   \n",
       "1           0       NaN  ev_2        NaN   \n",
       "2           0       NaN  ev_3        NaN   \n",
       "3           0       NaN  ev_4        NaN   \n",
       "4           0       NaN  ev_5        NaN   \n",
       "\n",
       "                                         source_text notes  \n",
       "0                                          燧人氏時天下多水。   NaN  \n",
       "1                               湯湯洪水方割，蕩蕩懷山襄陵，浩浩滔天……   NaN  \n",
       "2  當堯之時，天下猶未平。洪水橫流，泛濫於天下，草木暢茂；禽獸繁殖；五穀不登，禽獸逼人。獸蹄鳥跡...   NaN  \n",
       "3   昔禹之湮洪水、決江河而通四夷九州也，名山三百，支川三千，小者無數。禹親自操橐耜，而九雜天下之川。   NaN  \n",
       "4                                             洪水滔天……   NaN  "
      ]
     },
     "execution_count": 24,
     "metadata": {},
     "output_type": "execute_result"
    }
   ],
   "source": [
    "events_to_places = pd.read_csv(\n",
    "    \"https://raw.githubusercontent.com/YellowRiverDatabase/geodata/refs/heads/main/relational-datadata/yrdb_events_to_places.csv\"\n",
    ")\n",
    "events_to_types = pd.read_csv(\n",
    "    \"https://raw.githubusercontent.com/YellowRiverDatabase/geodata/refs/heads/main/relational-datadata/yrdb_events_to_types_final.csv\"\n",
    ")\n",
    "events_to_sources = pd.read_csv(\n",
    "    \"https://raw.githubusercontent.com/YellowRiverDatabase/geodata/refs/heads/main/relational-datadata/yrdb_events_to_sources.csv\"\n",
    ")\n",
    "events_to_sources.head()"
   ]
  },
  {
   "cell_type": "code",
   "execution_count": null,
   "id": "edc019ee",
   "metadata": {},
   "outputs": [],
   "source": [
    "# ev_df = events.join()"
   ]
  }
 ],
 "metadata": {
  "kernelspec": {
   "display_name": "research",
   "language": "python",
   "name": "python3"
  },
  "language_info": {
   "codemirror_mode": {
    "name": "ipython",
    "version": 3
   },
   "file_extension": ".py",
   "mimetype": "text/x-python",
   "name": "python",
   "nbconvert_exporter": "python",
   "pygments_lexer": "ipython3",
   "version": "3.12.3"
  }
 },
 "nbformat": 4,
 "nbformat_minor": 5
}
